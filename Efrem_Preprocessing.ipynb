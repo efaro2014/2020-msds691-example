{
  "nbformat": 4,
  "nbformat_minor": 0,
  "metadata": {
    "colab": {
      "name": "Efrem_new.ipynb",
      "provenance": [],
      "collapsed_sections": [],
      "authorship_tag": "ABX9TyOPSmkQHQs3gaynWDx6ZcJy",
      "include_colab_link": true
    },
    "kernelspec": {
      "display_name": "Python 3",
      "name": "python3"
    }
  },
  "cells": [
    {
      "cell_type": "markdown",
      "metadata": {
        "id": "view-in-github",
        "colab_type": "text"
      },
      "source": [
        "<a href=\"https://colab.research.google.com/github/efaro2014/2020-msds691-example/blob/master/Efrem_Preprocessing.ipynb\" target=\"_parent\"><img src=\"https://colab.research.google.com/assets/colab-badge.svg\" alt=\"Open In Colab\"/></a>"
      ]
    },
    {
      "cell_type": "code",
      "metadata": {
        "colab": {
          "base_uri": "https://localhost:8080/"
        },
        "id": "LlhwdWac8W6w",
        "outputId": "987cb268-b954-47e5-9454-8eafb5201551"
      },
      "source": [
        "from google.colab import drive\n",
        "drive.mount('/gdrive')\n",
        "%cd /gdrive"
      ],
      "execution_count": 6,
      "outputs": [
        {
          "output_type": "stream",
          "text": [
            "Mounted at /gdrive\n",
            "/gdrive\n"
          ],
          "name": "stdout"
        }
      ]
    },
    {
      "cell_type": "code",
      "metadata": {
        "colab": {
          "base_uri": "https://localhost:8080/"
        },
        "id": "xxMMfdH68aQk",
        "outputId": "3cc1a85c-ddbb-44c8-c6e7-96ba29318016"
      },
      "source": [
        "from google.colab import auth\n",
        "auth.authenticate_user()\n",
        "# https://cloud.google.com/resource-manager/docs/creating-managing-projects\n",
        "project_id = 'Efrem'\n",
        "!gcloud config set project {project_id}"
      ],
      "execution_count": 7,
      "outputs": [
        {
          "output_type": "stream",
          "text": [
            "\u001b[1;31mERROR:\u001b[0m (gcloud.config.set) The project property must be set to a valid project ID, not the project name [Efrem]\n",
            "To set your project, run:\n",
            "\n",
            "  $ gcloud config set project PROJECT_ID\n",
            "\n",
            "or to unset it, run:\n",
            "\n",
            "  $ gcloud config unset project\n"
          ],
          "name": "stdout"
        }
      ]
    },
    {
      "cell_type": "code",
      "metadata": {
        "id": "Jn2yvDuir2yg",
        "colab": {
          "base_uri": "https://localhost:8080/"
        },
        "outputId": "c78ba594-5208-48fb-d392-6cf36f6d5f25"
      },
      "source": [
        "!gsutil cp gs://virgosvs-ml-train/upper-vs-lower/clips/*.mp4 /tmp"
      ],
      "execution_count": 12,
      "outputs": [
        {
          "output_type": "stream",
          "text": [
            "Copying gs://virgosvs-ml-train/upper-vs-lower/clips/110777.mp4...\n",
            "Copying gs://virgosvs-ml-train/upper-vs-lower/clips/112066.mp4...\n",
            "Copying gs://virgosvs-ml-train/upper-vs-lower/clips/112072.mp4...\n",
            "Copying gs://virgosvs-ml-train/upper-vs-lower/clips/112078.mp4...\n",
            "- [4 files][  1.0 GiB/  1.0 GiB]   85.3 MiB/s                                   \n",
            "==> NOTE: You are performing a sequence of gsutil operations that may\n",
            "run significantly faster if you instead use gsutil -m cp ... Please\n",
            "see the -m section under \"gsutil help options\" for further information\n",
            "about when gsutil -m can be advantageous.\n",
            "\n",
            "Copying gs://virgosvs-ml-train/upper-vs-lower/clips/112082.mp4...\n",
            "Copying gs://virgosvs-ml-train/upper-vs-lower/clips/120286.mp4...\n",
            "Copying gs://virgosvs-ml-train/upper-vs-lower/clips/120287.mp4...\n",
            "Copying gs://virgosvs-ml-train/upper-vs-lower/clips/120317.mp4...\n",
            "Copying gs://virgosvs-ml-train/upper-vs-lower/clips/120318.mp4...\n",
            "Copying gs://virgosvs-ml-train/upper-vs-lower/clips/164314.mp4...\n",
            "Copying gs://virgosvs-ml-train/upper-vs-lower/clips/164315.mp4...\n",
            "Copying gs://virgosvs-ml-train/upper-vs-lower/clips/164316.mp4...\n",
            "Copying gs://virgosvs-ml-train/upper-vs-lower/clips/164317.mp4...\n",
            "Copying gs://virgosvs-ml-train/upper-vs-lower/clips/164323.mp4...\n",
            "Copying gs://virgosvs-ml-train/upper-vs-lower/clips/164324.mp4...\n",
            "Copying gs://virgosvs-ml-train/upper-vs-lower/clips/164325.mp4...\n",
            "Copying gs://virgosvs-ml-train/upper-vs-lower/clips/164326.mp4...\n",
            "Copying gs://virgosvs-ml-train/upper-vs-lower/clips/164329.mp4...\n",
            "Copying gs://virgosvs-ml-train/upper-vs-lower/clips/164330.mp4...\n",
            "Copying gs://virgosvs-ml-train/upper-vs-lower/clips/164339.mp4...\n",
            "Copying gs://virgosvs-ml-train/upper-vs-lower/clips/164344.mp4...\n",
            "Copying gs://virgosvs-ml-train/upper-vs-lower/clips/164369.mp4...\n",
            "Copying gs://virgosvs-ml-train/upper-vs-lower/clips/164373.mp4...\n",
            "Copying gs://virgosvs-ml-train/upper-vs-lower/clips/164375.mp4...\n",
            "Copying gs://virgosvs-ml-train/upper-vs-lower/clips/164379.mp4...\n",
            "Copying gs://virgosvs-ml-train/upper-vs-lower/clips/164381.mp4...\n",
            "Copying gs://virgosvs-ml-train/upper-vs-lower/clips/164383.mp4...\n",
            "Copying gs://virgosvs-ml-train/upper-vs-lower/clips/164384.mp4...\n",
            "Copying gs://virgosvs-ml-train/upper-vs-lower/clips/164386.mp4...\n",
            "Copying gs://virgosvs-ml-train/upper-vs-lower/clips/164387.mp4...\n",
            "Copying gs://virgosvs-ml-train/upper-vs-lower/clips/164388.mp4...\n",
            "Copying gs://virgosvs-ml-train/upper-vs-lower/clips/164392.mp4...\n",
            "Copying gs://virgosvs-ml-train/upper-vs-lower/clips/164393.mp4...\n",
            "Copying gs://virgosvs-ml-train/upper-vs-lower/clips/164394.mp4...\n",
            "Copying gs://virgosvs-ml-train/upper-vs-lower/clips/164395.mp4...\n",
            "Copying gs://virgosvs-ml-train/upper-vs-lower/clips/164397.mp4...\n",
            "Copying gs://virgosvs-ml-train/upper-vs-lower/clips/164398.mp4...\n",
            "Copying gs://virgosvs-ml-train/upper-vs-lower/clips/164399.mp4...\n",
            "Copying gs://virgosvs-ml-train/upper-vs-lower/clips/164400.mp4...\n",
            "Copying gs://virgosvs-ml-train/upper-vs-lower/clips/164403.mp4...\n",
            "Copying gs://virgosvs-ml-train/upper-vs-lower/clips/164404.mp4...\n",
            "Copying gs://virgosvs-ml-train/upper-vs-lower/clips/164406.mp4...\n",
            "Copying gs://virgosvs-ml-train/upper-vs-lower/clips/164407.mp4...\n",
            "Copying gs://virgosvs-ml-train/upper-vs-lower/clips/164410.mp4...\n",
            "Copying gs://virgosvs-ml-train/upper-vs-lower/clips/164411.mp4...\n",
            "Copying gs://virgosvs-ml-train/upper-vs-lower/clips/164412.mp4...\n",
            "Copying gs://virgosvs-ml-train/upper-vs-lower/clips/164414.mp4...\n",
            "Copying gs://virgosvs-ml-train/upper-vs-lower/clips/164417.mp4...\n",
            "Copying gs://virgosvs-ml-train/upper-vs-lower/clips/164422.mp4...\n",
            "Copying gs://virgosvs-ml-train/upper-vs-lower/clips/164424.mp4...\n",
            "Copying gs://virgosvs-ml-train/upper-vs-lower/clips/164425.mp4...\n",
            "Copying gs://virgosvs-ml-train/upper-vs-lower/clips/164426.mp4...\n",
            "Copying gs://virgosvs-ml-train/upper-vs-lower/clips/164427.mp4...\n",
            "Copying gs://virgosvs-ml-train/upper-vs-lower/clips/164428.mp4...\n",
            "Copying gs://virgosvs-ml-train/upper-vs-lower/clips/164430.mp4...\n",
            "Copying gs://virgosvs-ml-train/upper-vs-lower/clips/164431.mp4...\n",
            "Copying gs://virgosvs-ml-train/upper-vs-lower/clips/164434.mp4...\n",
            "Copying gs://virgosvs-ml-train/upper-vs-lower/clips/164435.mp4...\n",
            "Copying gs://virgosvs-ml-train/upper-vs-lower/clips/164436.mp4...\n",
            "Copying gs://virgosvs-ml-train/upper-vs-lower/clips/164437.mp4...\n",
            "Copying gs://virgosvs-ml-train/upper-vs-lower/clips/164438.mp4...\n",
            "Copying gs://virgosvs-ml-train/upper-vs-lower/clips/164439.mp4...\n",
            "Copying gs://virgosvs-ml-train/upper-vs-lower/clips/164441.mp4...\n",
            "Copying gs://virgosvs-ml-train/upper-vs-lower/clips/164443.mp4...\n",
            "Copying gs://virgosvs-ml-train/upper-vs-lower/clips/164444.mp4...\n",
            "Copying gs://virgosvs-ml-train/upper-vs-lower/clips/164445.mp4...\n",
            "Copying gs://virgosvs-ml-train/upper-vs-lower/clips/164446.mp4...\n",
            "Copying gs://virgosvs-ml-train/upper-vs-lower/clips/164447.mp4...\n",
            "Copying gs://virgosvs-ml-train/upper-vs-lower/clips/164448.mp4...\n",
            "Copying gs://virgosvs-ml-train/upper-vs-lower/clips/164537.mp4...\n",
            "Copying gs://virgosvs-ml-train/upper-vs-lower/clips/164538.mp4...\n",
            "Copying gs://virgosvs-ml-train/upper-vs-lower/clips/164539.mp4...\n",
            "Copying gs://virgosvs-ml-train/upper-vs-lower/clips/164547.mp4...\n",
            "Copying gs://virgosvs-ml-train/upper-vs-lower/clips/164548.mp4...\n",
            "Copying gs://virgosvs-ml-train/upper-vs-lower/clips/164549.mp4...\n",
            "Copying gs://virgosvs-ml-train/upper-vs-lower/clips/164556.mp4...\n",
            "Copying gs://virgosvs-ml-train/upper-vs-lower/clips/164557.mp4...\n",
            "Copying gs://virgosvs-ml-train/upper-vs-lower/clips/164559.mp4...\n",
            "Copying gs://virgosvs-ml-train/upper-vs-lower/clips/164563.mp4...\n",
            "Copying gs://virgosvs-ml-train/upper-vs-lower/clips/164565.mp4...\n",
            "Copying gs://virgosvs-ml-train/upper-vs-lower/clips/164568.mp4...\n",
            "Copying gs://virgosvs-ml-train/upper-vs-lower/clips/164569.mp4...\n",
            "Copying gs://virgosvs-ml-train/upper-vs-lower/clips/164572.mp4...\n",
            "Copying gs://virgosvs-ml-train/upper-vs-lower/clips/164573.mp4...\n",
            "Copying gs://virgosvs-ml-train/upper-vs-lower/clips/164579.mp4...\n",
            "Copying gs://virgosvs-ml-train/upper-vs-lower/clips/164580.mp4...\n",
            "Copying gs://virgosvs-ml-train/upper-vs-lower/clips/164581.mp4...\n",
            "Copying gs://virgosvs-ml-train/upper-vs-lower/clips/164584.mp4...\n",
            "Copying gs://virgosvs-ml-train/upper-vs-lower/clips/164585.mp4...\n",
            "Copying gs://virgosvs-ml-train/upper-vs-lower/clips/164587.mp4...\n",
            "Copying gs://virgosvs-ml-train/upper-vs-lower/clips/164588.mp4...\n",
            "Copying gs://virgosvs-ml-train/upper-vs-lower/clips/164589.mp4...\n",
            "Copying gs://virgosvs-ml-train/upper-vs-lower/clips/164590.mp4...\n",
            "Copying gs://virgosvs-ml-train/upper-vs-lower/clips/164591.mp4...\n",
            "Copying gs://virgosvs-ml-train/upper-vs-lower/clips/164594.mp4...\n",
            "Copying gs://virgosvs-ml-train/upper-vs-lower/clips/164595.mp4...\n",
            "Copying gs://virgosvs-ml-train/upper-vs-lower/clips/164596.mp4...\n",
            "Copying gs://virgosvs-ml-train/upper-vs-lower/clips/164598.mp4...\n",
            "Copying gs://virgosvs-ml-train/upper-vs-lower/clips/164599.mp4...\n",
            "Copying gs://virgosvs-ml-train/upper-vs-lower/clips/164600.mp4...\n",
            "Copying gs://virgosvs-ml-train/upper-vs-lower/clips/164601.mp4...\n",
            "Copying gs://virgosvs-ml-train/upper-vs-lower/clips/164602.mp4...\n",
            "Copying gs://virgosvs-ml-train/upper-vs-lower/clips/164603.mp4...\n",
            "Copying gs://virgosvs-ml-train/upper-vs-lower/clips/164606.mp4...\n",
            "Copying gs://virgosvs-ml-train/upper-vs-lower/clips/164607.mp4...\n",
            "Copying gs://virgosvs-ml-train/upper-vs-lower/clips/164609.mp4...\n",
            "Copying gs://virgosvs-ml-train/upper-vs-lower/clips/164610.mp4...\n",
            "Copying gs://virgosvs-ml-train/upper-vs-lower/clips/164611.mp4...\n",
            "Copying gs://virgosvs-ml-train/upper-vs-lower/clips/164612.mp4...\n",
            "Copying gs://virgosvs-ml-train/upper-vs-lower/clips/164614.mp4...\n",
            "Copying gs://virgosvs-ml-train/upper-vs-lower/clips/164615.mp4...\n",
            "Copying gs://virgosvs-ml-train/upper-vs-lower/clips/164616.mp4...\n",
            "Copying gs://virgosvs-ml-train/upper-vs-lower/clips/164619.mp4...\n",
            "Copying gs://virgosvs-ml-train/upper-vs-lower/clips/164620.mp4...\n",
            "Copying gs://virgosvs-ml-train/upper-vs-lower/clips/164621.mp4...\n",
            "Copying gs://virgosvs-ml-train/upper-vs-lower/clips/164622.mp4...\n",
            "Copying gs://virgosvs-ml-train/upper-vs-lower/clips/164625.mp4...\n",
            "Copying gs://virgosvs-ml-train/upper-vs-lower/clips/164626.mp4...\n",
            "Copying gs://virgosvs-ml-train/upper-vs-lower/clips/164627.mp4...\n",
            "Copying gs://virgosvs-ml-train/upper-vs-lower/clips/164644.mp4...\n",
            "Copying gs://virgosvs-ml-train/upper-vs-lower/clips/164646.mp4...\n",
            "Copying gs://virgosvs-ml-train/upper-vs-lower/clips/164648.mp4...\n",
            "Copying gs://virgosvs-ml-train/upper-vs-lower/clips/164650.mp4...\n",
            "Copying gs://virgosvs-ml-train/upper-vs-lower/clips/164660.mp4...\n",
            "Copying gs://virgosvs-ml-train/upper-vs-lower/clips/164662.mp4...\n",
            "Copying gs://virgosvs-ml-train/upper-vs-lower/clips/164666.mp4...\n",
            "Copying gs://virgosvs-ml-train/upper-vs-lower/clips/164667.mp4...\n",
            "Copying gs://virgosvs-ml-train/upper-vs-lower/clips/165505.mp4...\n",
            "Copying gs://virgosvs-ml-train/upper-vs-lower/clips/165506.mp4...\n",
            "Copying gs://virgosvs-ml-train/upper-vs-lower/clips/165507.mp4...\n",
            "- [130 files][ 22.3 GiB/ 22.3 GiB]   29.4 MiB/s                                 \n",
            "==> NOTE: You are performing a sequence of gsutil operations that may\n",
            "run significantly faster if you instead use gsutil -m cp ... Please\n",
            "see the -m section under \"gsutil help options\" for further information\n",
            "about when gsutil -m can be advantageous.\n",
            "\n",
            "\n",
            "Operation completed over 130 objects/22.3 GiB.                                   \n"
          ],
          "name": "stdout"
        }
      ]
    },
    {
      "cell_type": "code",
      "metadata": {
        "id": "Gwtw5Z4D8fKK"
      },
      "source": [
        ""
      ],
      "execution_count": null,
      "outputs": []
    },
    {
      "cell_type": "code",
      "metadata": {
        "id": "gdUK03qe9OC8"
      },
      "source": [
        "import re\n",
        "\n",
        "import numpy as np\n",
        "import cv2\n",
        "import h5py\n",
        "\n",
        "from keras.utils import Sequence\n",
        "import tensorflow as tf \n",
        "from keras.applications.resnet50 import ResNet50\n",
        "\n",
        "import matplotlib.pyplot as plt\n",
        "import matplotlib.patches as patches\n"
      ],
      "execution_count": 13,
      "outputs": []
    },
    {
      "cell_type": "code",
      "metadata": {
        "id": "GwuF9lXf9Sku"
      },
      "source": [
        "# Functions\n",
        "def get_sample_frame(video_path, frame_pos=None):\n",
        "    video = cv2.VideoCapture(video_path)\n",
        "    if frame_pos is None:\n",
        "        total_frames = int(video.get(cv2.CAP_PROP_FRAME_COUNT))\n",
        "        frame_pos = np.random.choice(total_frames)\n",
        "    video.set(cv2.CAP_PROP_POS_FRAMES, frame_pos)\n",
        "    ret, frame = video.read()\n",
        "    return frame  \n",
        "\n",
        "def get_total_frame(video_path):\n",
        "    video = cv2.VideoCapture(video_path)\n",
        "    total_frames = int(video.get(cv2.CAP_PROP_FRAME_COUNT))\n",
        "    return total_frames"
      ],
      "execution_count": 14,
      "outputs": []
    },
    {
      "cell_type": "code",
      "metadata": {
        "id": "j_AtK4ju-n8_"
      },
      "source": [
        "GREY_THRESH = 5\n",
        "PAD_COLOR = [0, 0, 0]\n",
        "def _nongrey_pixel_mask(frame, grey_threshold=GREY_THRESH):\n",
        "    greyscale = cv2.cvtColor(frame, cv2.COLOR_BGR2GRAY)\n",
        "    color_diff = cv2.absdiff(frame, cv2.cvtColor(greyscale, cv2.COLOR_GRAY2BGR))\n",
        "    color_diff_grey = cv2.cvtColor(color_diff, cv2.COLOR_BGR2GRAY)\n",
        "    _, non_grey_pixels = cv2.threshold(color_diff_grey, grey_threshold, 255, cv2.THRESH_BINARY)\n",
        "    return non_grey_pixels\n",
        "\n",
        "\n",
        "def _get_bounding_box(frame, grey_threshold=GREY_THRESH):\n",
        "    nongrey_pixels = _nongrey_pixel_mask(frame, grey_threshold)\n",
        "    kernel = cv2.getStructuringElement(shape=cv2.MORPH_RECT, ksize=(5, 5))\n",
        "    tmp = cv2.cvtColor(nongrey_pixels, cv2.COLOR_GRAY2BGR)\n",
        "    tmp = cv2.morphologyEx(tmp, cv2.MORPH_OPEN, kernel, iterations=3)\n",
        "    tmp = cv2.cvtColor(tmp, cv2.COLOR_BGR2GRAY)\n",
        "    return cv2.boundingRect(tmp)\n",
        "\n",
        "\n",
        "def get_median_bounding_box(path, n_samples=20, grey_threshold=GREY_THRESH):\n",
        "    video = cv2.VideoCapture(path)\n",
        "    total_frames = int(video.get(cv2.CAP_PROP_FRAME_COUNT))\n",
        "    sample_frames = np.linspace(0, total_frames - 1, num=n_samples).astype(int)\n",
        "\n",
        "    bbs = []\n",
        "    for frame_idx in sample_frames:\n",
        "        video.set(cv2.CAP_PROP_POS_FRAMES, frame_idx)\n",
        "        ret, frame = video.read()\n",
        "        bb = _get_bounding_box(frame, grey_threshold=grey_threshold)\n",
        "        bbs.append(bb)\n",
        "\n",
        "    return np.median(bbs, axis=0)\n",
        "\n",
        "\n",
        "class FramePreprocessor:\n",
        "    def __init__(self, target_w: int, target_h: int):\n",
        "        self.target_w = target_w\n",
        "        self.target_h = target_h\n",
        "        self.target_ratio = target_w/float(target_h)\n",
        "\n",
        "    def simple_crop(self, frame, bounding_box):\n",
        "        # crop:\n",
        "        left, right = int(bounding_box[0]), int(bounding_box[0] + bounding_box[2])\n",
        "        top, bottom = int(bounding_box[1]), int(bounding_box[1] + bounding_box[3])\n",
        "        cropped_frame = frame[top:bottom, left:right]\n",
        "        # resize:\n",
        "        input_w, input_h = bounding_box[2], bounding_box[3]\n",
        "        input_ratio = input_w / float(input_h)\n",
        "        if input_ratio > self.target_ratio:\n",
        "            resized_w = self.target_w\n",
        "            resized_h = int(self.target_w/input_ratio)\n",
        "        else:\n",
        "            resized_h = self.target_h\n",
        "            resized_w = int(self.target_h*input_ratio)\n",
        "        resized = cv2.resize(cropped_frame, (resized_w, resized_h))\n",
        "        # pad:\n",
        "        delta_w, delta_h = self.target_w - resized_w, self.target_h - resized_h\n",
        "        top_pad, bottom_pad = delta_h // 2, delta_h - (delta_h // 2)\n",
        "        left_pad, right_pad = delta_w // 2, delta_w - (delta_w // 2)\n",
        "        padded = cv2.copyMakeBorder(resized, top_pad, bottom_pad, left_pad, right_pad, cv2.BORDER_CONSTANT,\n",
        "                                    value=PAD_COLOR)\n",
        "        return padded"
      ],
      "execution_count": 15,
      "outputs": []
    },
    {
      "cell_type": "code",
      "metadata": {
        "id": "SqoLrL4V-tEd",
        "colab": {
          "base_uri": "https://localhost:8080/",
          "height": 269
        },
        "outputId": "7f43e85e-a13e-40f5-dcf3-79fcfeba1fa8"
      },
      "source": [
        "# get cropped frame\n",
        "clip_id = '164329'\n",
        "clip_path = f'/tmp/{clip_id}.mp4'\n",
        "# get sample frame\n",
        "frame = get_sample_frame(clip_path)\n",
        "bounding_box = get_median_bounding_box(clip_path)\n",
        "preprocessor = FramePreprocessor(224, 224) # change it to the same dim as resnet \n",
        "cropped_frame = preprocessor.simple_crop(frame, bounding_box)\n",
        "plt.imshow(cv2.cvtColor(cropped_frame, cv2.COLOR_BGR2RGB))\n",
        "plt.show()"
      ],
      "execution_count": 16,
      "outputs": [
        {
          "output_type": "display_data",
          "data": {
            "image/png": "[encoded data removed]",
            "text/plain": [
              "<Figure size 432x288 with 1 Axes>"
            ]
          },
          "metadata": {
            "tags": [],
            "needs_background": "light"
          }
        }
      ]
    },
    {
      "cell_type": "code",
      "metadata": {
        "id": "suQY-8saECMI"
      },
      "source": [
        "frame = get_sample_frame(clip_path)\n",
        "# frame"
      ],
      "execution_count": 17,
      "outputs": []
    },
    {
      "cell_type": "code",
      "metadata": {
        "id": "ZI-o3Gt8EC3s"
      },
      "source": [
        "# Zero-center by mean pixel\n",
        "pretrained_mean = [103.939, 116.779, 123.68]\n",
        "x = cropped_frame.astype('float64')\n",
        "x[:, :, 0] -= pretrained_mean[0]\n",
        "x[:, :, 1] -= pretrained_mean[1]\n",
        "x[:, :, 2] -= pretrained_mean[2]"
      ],
      "execution_count": 18,
      "outputs": []
    },
    {
      "cell_type": "code",
      "metadata": {
        "id": "cV2gXBj112WE"
      },
      "source": [
        "from keras.utils import Sequence\n",
        "import cv2\n",
        "import numpy as np\n",
        "pretrained_mean = [103.939, 116.779, 123.68]\n",
        "class VideoSequence(Sequence):\n",
        "    def __init__(self, video_path, batch_size, w=224, h=224):\n",
        "        self.video_path = video_path\n",
        "        self.batch_size = batch_size\n",
        "        self.position = 0\n",
        "        self.video = cv2.VideoCapture(video_path)\n",
        "        self.total_frames = int(self.video.get(cv2.CAP_PROP_FRAME_COUNT))\n",
        "        if w is None:\n",
        "            w = int(self.video.get(cv2.CAP_PROP_FRAME_WIDTH))\n",
        "        self.w = w\n",
        "        if h is None:\n",
        "            h = int(self.video.get(cv2.CAP_PROP_FRAME_HEIGHT))\n",
        "        self.h = h\n",
        "        self.bounding_box = get_median_bounding_box(video_path)\n",
        "        self.fpp = FramePreprocessor(self.w, self.h)\n",
        "    def __len__(self):\n",
        "        return int(np.ceil(self.total_frames / float(self.batch_size)))\n",
        "    def __getitem__(self, idx):\n",
        "        batch_start = idx * self.batch_size\n",
        "        batch_stop = (idx + 1) * self.batch_size\n",
        "        #handling for the last batch\n",
        "        batch_size = min(batch_stop, self.total_frames) - batch_start\n",
        "        # if we can't sequentially read, we need to seek.\n",
        "        if batch_start != self.position:\n",
        "            self.video.set(cv2.CAP_PROP_POS_FRAMES, batch_start)\n",
        "            self.position = batch_start\n",
        "         \n",
        "        frame_batch = np.zeros(shape=(batch_size, self.h, self.w, 3), dtype=np.uint8)\n",
        "        for i in range(0, batch_size):\n",
        "            _, frame = self.video.read()\n",
        "            frame = self.fpp.simple_crop(frame, self.bounding_box)\n",
        "            frame = frame.astype('float64')\n",
        "            for k in range(3):\n",
        "                frame[:,:,k] -= pretrained_mean[k]\n",
        "            frame_batch[i] = frame\n",
        "            self.position += 1\n",
        "        return frame_batch"
      ],
      "execution_count": 19,
      "outputs": []
    },
    {
      "cell_type": "code",
      "metadata": {
        "colab": {
          "base_uri": "https://localhost:8080/"
        },
        "id": "dtwCCleF17zC",
        "outputId": "64454e7e-d530-46f8-f594-ed1d63766028"
      },
      "source": [
        "# initiate Resnet50\n",
        "model = ResNet50( weights='imagenet', pooling='avg', include_top = False) # avg pooling"
      ],
      "execution_count": 20,
      "outputs": [
        {
          "output_type": "stream",
          "text": [
            "Downloading data from https://storage.googleapis.com/tensorflow/keras-applications/resnet/resnet50_weights_tf_dim_ordering_tf_kernels_notop.h5\n",
            "94773248/94765736 [==============================] - 2s 0us/step\n"
          ],
          "name": "stdout"
        }
      ]
    },
    {
      "cell_type": "code",
      "metadata": {
        "id": "Gl0JoF8s7AeR"
      },
      "source": [
        "from sklearn.linear_model  import LogisticRegression \n",
        "from sklearn.model_selection import train_test_split\n",
        "from sklearn.metrics import confusion_matrix\n"
      ],
      "execution_count": 21,
      "outputs": []
    },
    {
      "cell_type": "code",
      "metadata": {
        "id": "wfzXWuh77CkQ"
      },
      "source": [
        "# X_train, X_test, y_train, y_test = train_test_split(X, y, test_size=0.2, stratify=y)"
      ],
      "execution_count": 22,
      "outputs": []
    },
    {
      "cell_type": "code",
      "metadata": {
        "id": "DCG7Ppe87Fa4"
      },
      "source": [
        "# clf = LogisticRegression(max_iter=5000)\n",
        "# clf.fit(X_train, y_train)\n",
        "# y_pred = clf.predict(X_test)\n",
        "# confusion_matrix(y_test, y_pred)"
      ],
      "execution_count": 23,
      "outputs": []
    },
    {
      "cell_type": "code",
      "metadata": {
        "id": "5mbF83rLS3o3"
      },
      "source": [
        "import os\n",
        "def filelist(root):\n",
        "    \"\"\"Return a fully-qualified list of filenames under root directory; sort names alphabetically.\"\"\"\n",
        "    allfiles = []\n",
        "    for path, subdirs, files in os.walk(root):\n",
        "        for name in files:\n",
        "          if name.endswith('.mp4'):\n",
        "            allfiles.append(os.path.join(path, name))\n",
        "          else:\n",
        "            continue\n",
        "    return sorted(allfiles)\n",
        "  \n",
        "file_names = filelist('/tmp')\n",
        "\n"
      ],
      "execution_count": 24,
      "outputs": []
    },
    {
      "cell_type": "code",
      "metadata": {
        "colab": {
          "base_uri": "https://localhost:8080/"
        },
        "id": "FVdHPgY0S5sF",
        "outputId": "9af67bf4-9967-4f94-9e67-0d9f648061cb"
      },
      "source": [
        "len(file_names)"
      ],
      "execution_count": 25,
      "outputs": [
        {
          "output_type": "execute_result",
          "data": {
            "text/plain": [
              "130"
            ]
          },
          "metadata": {
            "tags": []
          },
          "execution_count": 25
        }
      ]
    },
    {
      "cell_type": "code",
      "metadata": {
        "id": "wrEzQoXd7IKS"
      },
      "source": [
        "import h5py\n",
        "import re"
      ],
      "execution_count": 26,
      "outputs": []
    },
    {
      "cell_type": "code",
      "metadata": {
        "id": "VBBOgXlNX9rw"
      },
      "source": [
        "# ! mkdir '/tmp/features/'"
      ],
      "execution_count": 28,
      "outputs": []
    },
    {
      "cell_type": "code",
      "metadata": {
        "id": "R2QeJLhh7MtP"
      },
      "source": [
        "files = filelist('/tmp') # list of video path , '/tmp/164316.mp4', '/tmp/164329.mp4'\n",
        "\n",
        "def gen_feature_files(model, files, prefix='/tmp/features/', batch_size=32):\n",
        "  '''\n",
        "  save features (.hdf5 format) from ResNet50 into the specified file path\n",
        "  parameters\n",
        "  ---------------\n",
        "  model: Resnet50 model instance\n",
        "  prefix: file path prefix\n",
        "  files: list of video path\n",
        "  Example ->  ['/tmp/110777.mp4', '/tmp/164316.mp4'] \n",
        "\n",
        "\n",
        "  '''\n",
        "  for video_path in files:\n",
        "    clip_id = re.search(\"(\\d+).mp4$\", video_path).group(1)\n",
        "    video = VideoSequence(video_path, batch_size)\n",
        "    feature = model.predict(video, batch_size=batch_size)\n",
        "    file_name = f'{prefix}{clip_id}.mp4.hdf5'\n",
        "    with h5py.File(file_name, 'w') as hf:\n",
        "        hf.create_dataset(file_name,  data=feature)\n",
        "        print(f'Save {clip_id}.mp4 features to {file_name}')\n",
        "  "
      ],
      "execution_count": 32,
      "outputs": []
    },
    {
      "cell_type": "code",
      "metadata": {
        "id": "Yhc_juHQ9ebW"
      },
      "source": [
        ""
      ],
      "execution_count": null,
      "outputs": []
    },
    {
      "cell_type": "code",
      "metadata": {
        "id": "Ni8WLaUb9Yfz"
      },
      "source": [
        "gen_feature_files(model, files)"
      ],
      "execution_count": null,
      "outputs": []
    },
    {
      "cell_type": "code",
      "metadata": {
        "colab": {
          "base_uri": "https://localhost:8080/"
        },
        "id": "d2NxUexqOIQl",
        "outputId": "da26e890-911a-42b1-9d4b-6e227d085129"
      },
      "source": [
        "!gsutil cp /tmp/features/*.hdf5 gs://virgosvs-ml-train/upper-vs-lower/resnet50-features/padded/ "
      ],
      "execution_count": null,
      "outputs": [
        {
          "output_type": "stream",
          "text": [
            "CommandException: No URLs matched: /tmp/features/*.hdf5\n"
          ],
          "name": "stdout"
        }
      ]
    },
    {
      "cell_type": "code",
      "metadata": {
        "id": "U2MG2I5Lsj3B"
      },
      "source": [
        "! ls /tmp/features/"
      ],
      "execution_count": 31,
      "outputs": []
    },
    {
      "cell_type": "code",
      "metadata": {
        "id": "TdrGAdyUaiD0"
      },
      "source": [
        "! rm -rf ~/.gsutil\n",
        "! rm -rf /root/.gsutil\n"
      ],
      "execution_count": null,
      "outputs": []
    },
    {
      "cell_type": "code",
      "metadata": {
        "colab": {
          "base_uri": "https://localhost:8080/"
        },
        "id": "sI8xcYrz8rRc",
        "outputId": "6317827f-c9f6-494b-a781-976e7e13e1dc"
      },
      "source": [
        "!gsutil cp /tmp/features/*.hdf5 gs://virgosvs-ml-train/upper-vs-lower/resnet50-features/padded/"
      ],
      "execution_count": null,
      "outputs": [
        {
          "output_type": "stream",
          "text": [
            "Copying file:///tmp/features/110777.mp4.hdf5 [Content-Type=application/octet-stream]...\n",
            "/ [0 files][    0.0 B/ 25.8 MiB]                                                \rResumableUploadAbortException: 403 efrem@virgosvs.com does not have storage.objects.create access to virgosvs-ml-train/upper-vs-lower/resnet50-features/padded/110777.mp4.hdf5.\n"
          ],
          "name": "stdout"
        }
      ]
    }
  ]
}